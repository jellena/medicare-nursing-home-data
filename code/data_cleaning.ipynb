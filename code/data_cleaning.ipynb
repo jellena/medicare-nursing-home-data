{
 "cells": [
  {
   "cell_type": "code",
   "execution_count": 2,
   "metadata": {},
   "outputs": [],
   "source": [
    "# Imports\n",
    "import pandas as pd\n",
    "import psycopg2\n",
    "from sqlalchemy import create_engine\n",
    "import matplotlib as plt\n",
    "import glob\n",
    "\n",
    "%matplotlib inline"
   ]
  },
  {
   "cell_type": "code",
   "execution_count": 3,
   "metadata": {},
   "outputs": [],
   "source": [
    "# Creating sqlachemy engine\n",
    "# Postgres username, password, and database name\n",
    "POSTGRES_ADDRESS = 'achp-jacob-ellena.cclz7djd0opc.us-east-1.rds.amazonaws.com' ## INSERT YOUR DB ADDRESS IF IT'S NOT ON PANOPLY\n",
    "POSTGRES_PORT = '5432'\n",
    "POSTGRES_USERNAME = 'jellena' ## CHANGE THIS TO YOUR PANOPLY/POSTGRES USERNAME\n",
    "POSTGRES_PASSWORD = 'gogogo' ## CHANGE THIS TO YOUR PANOPLY/POSTGRES PASSWORD \n",
    "POSTGRES_DBNAME = 'achp-jacob-ellena' ## CHANGE THIS TO YOUR DATABASE NAME\n",
    "# A long string that contains the necessary Postgres login information\n",
    "postgres_str = f'postgresql://{POSTGRES_USERNAME}:{POSTGRES_PASSWORD}@{POSTGRES_ADDRESS}:{POSTGRES_PORT}/{POSTGRES_DBNAME}'\n",
    "engine = create_engine(postgres_str)\n",
    "# postgres_str = ('postgresql://{username}:{password}@{ipaddress}:{port}/{dbname}'\n",
    "#   .format(username=POSTGRES_USERNAME,\n",
    "#    password=POSTGRES_PASSWORD,\n",
    "#    ipaddress=POSTGRES_ADDRESS,\n",
    "#    port=POSTGRES_PORT,\n",
    "#    dbname=POSTGRES_DBNAME))\n",
    "# # Create the connection\n",
    "# cnx = create_engine(postgres_str)"
   ]
  },
  {
   "cell_type": "code",
   "execution_count": 4,
   "metadata": {},
   "outputs": [
    {
     "name": "stdout",
     "output_type": "stream",
     "text": [
      "{'user': 'jellena', 'dbname': 'mnh', 'host': 'achp-jacob-ellena.cclz7djd0opc.us-east-1.rds.amazonaws.com', 'port': '5432', 'tty': '', 'options': '', 'sslmode': 'prefer', 'sslcompression': '0', 'krbsrvname': 'postgres', 'target_session_attrs': 'any'} \n",
      "\n",
      "You are connected to -  ('PostgreSQL 11.6 on x86_64-pc-linux-gnu, compiled by gcc (GCC) 4.8.3 20140911 (Red Hat 4.8.3-9), 64-bit',) \n",
      "\n"
     ]
    }
   ],
   "source": [
    "# Connection code from https://pynative.com/python-postgresql-tutorial/\n",
    "connection = psycopg2.connect(user = \"jellena\",\n",
    "                              password = \"gogogo\",\n",
    "                              host = \"achp-jacob-ellena.cclz7djd0opc.us-east-1.rds.amazonaws.com\",\n",
    "                              port = \"5432\",\n",
    "                              database = \"mnh\")\n",
    "\n",
    "cursor = connection.cursor()\n",
    "# Print PostgreSQL Connection properties\n",
    "print ( connection.get_dsn_parameters(),\"\\n\")\n",
    "\n",
    "# Print PostgreSQL version\n",
    "cursor.execute(\"SELECT version();\")\n",
    "record = cursor.fetchone()\n",
    "print(\"You are connected to - \", record,\"\\n\")\n"
   ]
  },
  {
   "cell_type": "code",
   "execution_count": null,
   "metadata": {},
   "outputs": [],
   "source": []
  },
  {
   "cell_type": "code",
   "execution_count": 5,
   "metadata": {},
   "outputs": [],
   "source": [
    "# Creating a list of files in directory\n",
    "files = []\n",
    "for file in glob.glob('.\\data\\*.csv'): # creates relative files paths from current directory\n",
    "    files.append(file.replace('.\\\\data\\\\', ''))"
   ]
  },
  {
   "cell_type": "code",
   "execution_count": 6,
   "metadata": {},
   "outputs": [
    {
     "data": {
      "text/plain": [
       "['emergency_preparedness_deficiencies.csv',\n",
       " 'fire_safety_deficiencies.csv',\n",
       " 'health_deficiencies.csv',\n",
       " 'penalties.csv',\n",
       " 'staffing.csv',\n",
       " 'star_ratings.csv']"
      ]
     },
     "execution_count": 6,
     "metadata": {},
     "output_type": "execute_result"
    }
   ],
   "source": [
    "files"
   ]
  },
  {
   "cell_type": "code",
   "execution_count": 7,
   "metadata": {},
   "outputs": [
    {
     "data": {
      "text/plain": [
       "'emergency_preparedness_deficiencies.csv'"
      ]
     },
     "execution_count": 7,
     "metadata": {},
     "output_type": "execute_result"
    }
   ],
   "source": [
    "pathname = './data/'\n",
    "files[0]"
   ]
  },
  {
   "cell_type": "code",
   "execution_count": null,
   "metadata": {},
   "outputs": [],
   "source": []
  },
  {
   "cell_type": "code",
   "execution_count": 8,
   "metadata": {},
   "outputs": [],
   "source": [
    "temp_df = pd.read_csv(f'{pathname}{files[0]}')"
   ]
  },
  {
   "cell_type": "code",
   "execution_count": 9,
   "metadata": {},
   "outputs": [],
   "source": [
    "temp_df.columns = temp_df.columns.str.replace(' ', '_').str.lower()"
   ]
  },
  {
   "cell_type": "code",
   "execution_count": 10,
   "metadata": {},
   "outputs": [
    {
     "data": {
      "text/plain": [
       "Index(['federal_provider_number', 'provider_name', 'provider_address',\n",
       "       'provider_city', 'provider_state', 'provider_zip_code', 'survey_date',\n",
       "       'survey_type', 'deficiency_prefix', 'deficiency_tag_number',\n",
       "       'tag_version', 'deficiency_description', 'scope_severity_code',\n",
       "       'deficiency_corrected', 'correction_date', 'inspection_cycle',\n",
       "       'standard_deficiency', 'complaint_deficiency', 'location',\n",
       "       'processing_date'],\n",
       "      dtype='object')"
      ]
     },
     "execution_count": 10,
     "metadata": {},
     "output_type": "execute_result"
    }
   ],
   "source": [
    "temp_df.columns"
   ]
  },
  {
   "cell_type": "code",
   "execution_count": 11,
   "metadata": {},
   "outputs": [],
   "source": [
    "temp_column_dtypes_dict = dict(temp_df.dtypes)"
   ]
  },
  {
   "cell_type": "code",
   "execution_count": 12,
   "metadata": {},
   "outputs": [],
   "source": [
    "temp_column_names_list = temp_df.columns"
   ]
  },
  {
   "cell_type": "code",
   "execution_count": 13,
   "metadata": {},
   "outputs": [],
   "source": [
    "# Creating dictionary to replace panda data types with postgres data types\n",
    "dtype_dict = {\n",
    "    \"object\" : 'TEXT',\n",
    "    \"int64\"  : 'INTEGER',\n",
    "    \"bool\"   : 'BOOLEAN'\n",
    "}"
   ]
  },
  {
   "cell_type": "code",
   "execution_count": 15,
   "metadata": {},
   "outputs": [],
   "source": [
    "temp_table = files[0].replace('.csv', '')"
   ]
  },
  {
   "cell_type": "code",
   "execution_count": 16,
   "metadata": {},
   "outputs": [],
   "source": [
    "temp_data_type = str(temp_column_dtypes_dict[temp_column_names_list[1]]).replace(str(temp_column_dtypes_dict[temp_column_names_list[1]]), dtype_dict[str(temp_column_dtypes_dict[temp_column_names_list[1]])])"
   ]
  },
  {
   "cell_type": "code",
   "execution_count": 17,
   "metadata": {},
   "outputs": [],
   "source": [
    "cursor.execute(f''' \n",
    "CREATE TABLE {files[0].replace('.csv', '')} (\n",
    "    {temp_column_names_list[0]} TEXT PRIMARY KEY\n",
    "\n",
    ");''')"
   ]
  },
  {
   "cell_type": "code",
   "execution_count": 18,
   "metadata": {},
   "outputs": [],
   "source": [
    "cursor.execute(f'''\n",
    "ALTER TABLE {files[0].replace('.csv', '')}\n",
    "ADD COLUMN {temp_column_names_list[1]} {temp_data_type};\n",
    "''')"
   ]
  },
  {
   "cell_type": "code",
   "execution_count": 19,
   "metadata": {},
   "outputs": [],
   "source": [
    "connection.commit()"
   ]
  },
  {
   "cell_type": "code",
   "execution_count": null,
   "metadata": {},
   "outputs": [],
   "source": [
    "f'''\n",
    "ALTER TABLE {files[0].replace('.csv', '')}\n",
    "ADD COLUMN {temp_column_names_list[0]} {temp_data_type}\n",
    "'''"
   ]
  },
  {
   "cell_type": "code",
   "execution_count": null,
   "metadata": {},
   "outputs": [],
   "source": [
    "str(temp_column_dtypes_dict[temp_column_names_list[1]])"
   ]
  },
  {
   "cell_type": "code",
   "execution_count": null,
   "metadata": {},
   "outputs": [],
   "source": [
    "dtype_dict[str(temp_column_dtypes_dict[temp_column_names_list[1]])]"
   ]
  },
  {
   "cell_type": "code",
   "execution_count": null,
   "metadata": {},
   "outputs": [],
   "source": []
  }
 ],
 "metadata": {
  "kernelspec": {
   "display_name": "Python 3",
   "language": "python",
   "name": "python3"
  },
  "language_info": {
   "codemirror_mode": {
    "name": "ipython",
    "version": 3
   },
   "file_extension": ".py",
   "mimetype": "text/x-python",
   "name": "python",
   "nbconvert_exporter": "python",
   "pygments_lexer": "ipython3",
   "version": "3.7.6"
  }
 },
 "nbformat": 4,
 "nbformat_minor": 4
}
